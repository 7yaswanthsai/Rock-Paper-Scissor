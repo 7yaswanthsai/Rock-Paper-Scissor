{
 "cells": [
  {
   "cell_type": "code",
   "execution_count": 1,
   "id": "3e181956-68fd-45ed-8cbe-8a5b5007501b",
   "metadata": {},
   "outputs": [],
   "source": [
    "import random"
   ]
  },
  {
   "cell_type": "code",
   "execution_count": null,
   "id": "512c2b07-4a9d-4f64-9c71-ba6520b627f4",
   "metadata": {},
   "outputs": [],
   "source": [
    "options = (\"rock\", \"paper\", \"scissors\")\n",
    "running = True\n",
    "\n",
    "while running:\n",
    "\n",
    "    player = None\n",
    "    computer = random.choice(options)\n",
    "\n",
    "    while player not in options:\n",
    "        player = input(\"Enter a choice (rock, paper, scissors): \")\n",
    "\n",
    "    print(f\"Player: {player}\")\n",
    "    print(f\"Computer: {computer}\")\n",
    "\n",
    "    if player == computer:\n",
    "        print(\"It's a tie!\")\n",
    "    elif player == \"rock\" and computer == \"scissors\":\n",
    "        print(\"Hurray, You won!\")\n",
    "    elif player == \"paper\" and computer == \"rock\":\n",
    "        print(\"Hurray, You won!\")\n",
    "    elif player == \"scissors\" and computer == \"paper\":\n",
    "        print(\"Hurray, You won!\")\n",
    "    else:\n",
    "        print(\"You lost! Better Luck next time.\")\n",
    "\n",
    "    if not input(\"Play again? (y/n): \").lower() == \"y\":\n",
    "        running = False\n",
    "\n",
    "print(\"Thanks for playing!\")"
   ]
  }
 ],
 "metadata": {
  "kernelspec": {
   "display_name": "Python 3 (ipykernel)",
   "language": "python",
   "name": "python3"
  },
  "language_info": {
   "codemirror_mode": {
    "name": "ipython",
    "version": 3
   },
   "file_extension": ".py",
   "mimetype": "text/x-python",
   "name": "python",
   "nbconvert_exporter": "python",
   "pygments_lexer": "ipython3",
   "version": "3.11.5"
  }
 },
 "nbformat": 4,
 "nbformat_minor": 5
}
